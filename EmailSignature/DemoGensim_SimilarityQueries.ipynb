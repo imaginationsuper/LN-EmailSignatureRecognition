{
 "cells": [
  {
   "cell_type": "code",
   "execution_count": 1,
   "metadata": {
    "collapsed": true
   },
   "outputs": [],
   "source": [
    "import logging\n",
    "logging.basicConfig(format='%(asctime)s : %(levelname)s : %(message)s', level=logging.INFO)"
   ]
  },
  {
   "cell_type": "markdown",
   "metadata": {},
   "source": [
    "### Similarity Interface\n",
    "Determine similarity between a specific document and a set of other documents."
   ]
  },
  {
   "cell_type": "code",
   "execution_count": 2,
   "metadata": {
    "collapsed": false
   },
   "outputs": [
    {
     "name": "stdout",
     "output_type": "stream",
     "text": [
      "MmCorpus(9 documents, 12 features, 28 non-zero entries)\n"
     ]
    }
   ],
   "source": [
    "from gensim import corpora, models, similarities\n",
    "import os\n",
    "os.chdir(\"tmp\") # run 'DemoGensim_CorporaAndVectorSpaces' first before reading the dict\n",
    "dictionary = corpora.Dictionary.load('deerwester.dict')\n",
    "corpus = corpora.MmCorpus('deerwester.mm') \n",
    "print(corpus)"
   ]
  },
  {
   "cell_type": "markdown",
   "metadata": {},
   "source": [
    "First, use this tiny corpus to define a 2-D LSI space:"
   ]
  },
  {
   "cell_type": "code",
   "execution_count": 3,
   "metadata": {
    "collapsed": true
   },
   "outputs": [],
   "source": [
    "lsi = models.LsiModel(corpus, id2word=dictionary, num_topics=2)"
   ]
  },
  {
   "cell_type": "markdown",
   "metadata": {},
   "source": [
    "Sort the nine corpus documents in decreasing order of relevance to this query."
   ]
  },
  {
   "cell_type": "code",
   "execution_count": 4,
   "metadata": {
    "collapsed": false
   },
   "outputs": [
    {
     "name": "stdout",
     "output_type": "stream",
     "text": [
      "[(0, 0.4618210045327158), (1, -0.070027665279000062)]\n"
     ]
    }
   ],
   "source": [
    "doc = \"Human computer interaction\"\n",
    "vec_bow = dictionary.doc2bow(doc.lower().split())\n",
    "vec_lsi = lsi[vec_bow]\n",
    "print(vec_lsi)"
   ]
  },
  {
   "cell_type": "markdown",
   "metadata": {},
   "source": [
    "### Initializing Query Structures\n",
    "Prepare for similarity queries."
   ]
  },
  {
   "cell_type": "code",
   "execution_count": 5,
   "metadata": {
    "collapsed": false
   },
   "outputs": [
    {
     "name": "stderr",
     "output_type": "stream",
     "text": [
      "WARNING:gensim.similarities.docsim:scanning corpus to determine the number of features (consider setting `num_features` explicitly)\n"
     ]
    }
   ],
   "source": [
    "index = similarities.MatrixSimilarity(lsi[corpus]) # transform coprpus to LSI space and index it"
   ]
  },
  {
   "cell_type": "markdown",
   "metadata": {},
   "source": [
    "Index persistency is handled via the standard save() and load()"
   ]
  },
  {
   "cell_type": "code",
   "execution_count": 6,
   "metadata": {
    "collapsed": false
   },
   "outputs": [
    {
     "name": "stdout",
     "output_type": "stream",
     "text": [
      "[1.0, 0.91421592, 0.999982, 0.99478287, 0.87990767, -0.18518142, -0.16756734, -0.16003224, -0.011704311]\n",
      "[0.91421592, 1.0, 0.91662991, 0.86810708, 0.99696732, 0.22892299, 0.24630509, 0.25370079, 0.39449945]\n",
      "[0.999982, 0.91662991, 1.0, 0.99415314, 0.88274169, -0.17928416, -0.16165146, -0.154109, -0.0057068467]\n",
      "[0.99478287, 0.86810708, 0.99415314, 1.0, 0.82684523, -0.28446588, -0.26726568, -0.25989753, -0.11365126]\n",
      "[0.87990767, 0.99696732, 0.88274169, 0.82684523, 1.0, 0.30398417, 0.32098264, 0.32820731, 0.46481341]\n",
      "[-0.18518142, 0.22892299, -0.17928416, -0.28446588, 0.30398417, 0.99999994, 0.99983984, 0.99967402, 0.98480445]\n",
      "[-0.16756734, 0.24630509, -0.16165146, -0.26726568, 0.32098264, 0.99983984, 1.0, 0.99997079, 0.9877544]\n",
      "[-0.16003224, 0.25370079, -0.154109, -0.25989753, 0.32820731, 0.99967402, 0.99997079, 1.0, 0.98891723]\n",
      "[-0.011704311, 0.39449945, -0.0057068467, -0.11365126, 0.46481341, 0.98480445, 0.9877544, 0.98891723, 1.0]\n"
     ]
    }
   ],
   "source": [
    "index.save(\"deerwester.index\")\n",
    "index = similarities.MatrixSimilarity.load('deerwester.index')\n",
    "for term in map(list, index):\n",
    "    print(term)"
   ]
  },
  {
   "cell_type": "markdown",
   "metadata": {},
   "source": [
    "### Performing Queries\n",
    "To obtain similarities of the query document against the nine index documents:"
   ]
  },
  {
   "cell_type": "code",
   "execution_count": 7,
   "metadata": {
    "collapsed": false
   },
   "outputs": [
    {
     "name": "stdout",
     "output_type": "stream",
     "text": [
      "[(0, 0.99809301), (1, 0.93748635), (2, 0.99844527), (3, 0.9865886), (4, 0.90755945), (5, -0.12416792), (6, -0.10639259), (7, -0.098794639), (8, 0.050041765)]\n"
     ]
    }
   ],
   "source": [
    "sims = index[vec_lsi] # perform a similarity query against the corpus\n",
    "print(list(enumerate(sims))) # print (document_number, document_similarity) 2-tuples"
   ]
  },
  {
   "cell_type": "markdown",
   "metadata": {},
   "source": [
    "Sort these similarities into descending order."
   ]
  },
  {
   "cell_type": "code",
   "execution_count": 8,
   "metadata": {
    "collapsed": false
   },
   "outputs": [
    {
     "name": "stdout",
     "output_type": "stream",
     "text": [
      "[(2, 0.99844527),\n",
      " (0, 0.99809301),\n",
      " (3, 0.9865886),\n",
      " (1, 0.93748635),\n",
      " (4, 0.90755945),\n",
      " (8, 0.050041765),\n",
      " (7, -0.098794639),\n",
      " (6, -0.10639259),\n",
      " (5, -0.12416792)]\n"
     ]
    }
   ],
   "source": [
    "sims = sorted(enumerate(sims), key=lambda item: -item[1])\n",
    "from pprint import pprint\n",
    "pprint(sims) # print sorted(document number, similarity score) 2-tuples"
   ]
  }
 ],
 "metadata": {
  "kernelspec": {
   "display_name": "Python 2",
   "language": "python",
   "name": "python2"
  },
  "language_info": {
   "codemirror_mode": {
    "name": "ipython",
    "version": 2
   },
   "file_extension": ".py",
   "mimetype": "text/x-python",
   "name": "python",
   "nbconvert_exporter": "python",
   "pygments_lexer": "ipython2",
   "version": "2.7.11"
  }
 },
 "nbformat": 4,
 "nbformat_minor": 0
}

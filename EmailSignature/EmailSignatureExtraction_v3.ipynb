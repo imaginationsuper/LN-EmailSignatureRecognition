{
 "cells": [
  {
   "cell_type": "markdown",
   "metadata": {},
   "source": [
    "Continue with v2, split the dataset into training and testing datasets by ratio of 60:40."
   ]
  },
  {
   "cell_type": "code",
   "execution_count": 1,
   "metadata": {
    "collapsed": true
   },
   "outputs": [],
   "source": [
    "import logging # record log event\n",
    "logging.basicConfig(format='%(asctime)s : %(levelname)s : %(message)s', level=logging.INFO)"
   ]
  },
  {
   "cell_type": "markdown",
   "metadata": {},
   "source": [
    "Load positive(email signatures) and negative(email body contents) data respectively."
   ]
  },
  {
   "cell_type": "code",
   "execution_count": 2,
   "metadata": {
    "collapsed": false
   },
   "outputs": [
    {
     "name": "stdout",
     "output_type": "stream",
     "text": [
      "[['helyette', 'geman', 'universite', 'de', 'paris', 'dauphine', 'finance', 'department', 'au', 'de', 'ka', 'grand', 'ecole', 'corgy', 'pontois', 'paris', 'france', 't'], ['kind', 'regards', 'nia', 'mansell', 'infocast', 'conference', 'manager', 'ext', 'fax', 'niam', 'informationforecast', 'com'], ['sincerely', 'daniel', 'yergin', 'chairman', 'cambridge', 'energy', 'research', 'associates'], ['thank', 'you', 'clare', 'fitzgerald', 'director', 'training', 'courses', 'marcus', 'evans', 'x'], ['westin', 'galleria', 'hotel', 'west', 'alabama', 'houston', 'texas']]\n",
      "[['symposium', 'features', 'leaders', 'from', 'ferc', 'electric'], ['since', 'we', 'add', 'to', 'it', 'frequently'], ['your', 'registration', 'fee', 'is', 'inclusive', 'of', 'the', 'following'], ['and', 'decision', 'makers', 'of', 'the', 'electric', 'power', 'industry'], ['assets', 'management', 'is', 'also', 'very', 'informative', 'a', 'talk', 'about', 'using', 'real', 'option']]\n",
      "45 27 18\n"
     ]
    }
   ],
   "source": [
    "import re\n",
    "import math\n",
    "import collections\n",
    "import sklearn.naive_bayes\n",
    "import sklearn.linear_model\n",
    "import nltk\n",
    "import random\n",
    "random.seed(0)\n",
    "from gensim.models.doc2vec import LabeledSentence, Doc2Vec\n",
    "\n",
    "def load_data(path_to_data):\n",
    "    train_pos = []\n",
    "    train_neg = []\n",
    "    sigwords = []\n",
    "    with open(path_to_data+\"EnronSignatures.txt\",'r') as fes:\n",
    "        for line in fes:\n",
    "            if len(line) <= 3:\n",
    "                train_pos.append((' '.join(sigwords)).split()) # combine all the texts of each signature\n",
    "                sigwords = []\n",
    "            else:\n",
    "                sigwords.append(' '.join(line.lower().strip().split()))\n",
    "    with open(path_to_data+\"train_content.txt\",'r') as ftc:\n",
    "        for line in ftc:\n",
    "            words = [w.lower() for w in line.strip().split()]\n",
    "            if len(words) < 2:\n",
    "                continue\n",
    "            train_neg.append(words)\n",
    "    return train_pos, train_neg\n",
    "\n",
    "def data_filter(raw_text_data):\n",
    "    clean_text_data = []\n",
    "    for entry in raw_text_data:\n",
    "        clean_entry = re.sub(r\"\\n|(\\\\(.*?){)|}|[!$%^&*#()_+|~\\-={}\\[\\]:\\\";'<>?,.\\/\\\\]|[0-9]|[@]\", ' ', ' '.join(entry))\n",
    "        #clean_entry = re.sub(r\"\\n|(\\\\(.*?){)|}|[!$%^&*#_+|\\={}\\[\\]\\\";'<>?,.\\/]|[0-9]\", ' ', ' '.join(entry))\n",
    "        clean_entry = re.sub('\\s+', ' ', clean_entry)\n",
    "        clean_text_data.append(clean_entry.split())\n",
    "    return clean_text_data\n",
    "\n",
    "data_pos, data_neg = load_data('./')\n",
    "data_pos = data_filter(data_pos)\n",
    "data_neg = data_filter(data_neg)\n",
    "data_size = min(len(data_pos), len(data_neg))\n",
    "random.shuffle(data_pos)\n",
    "random.shuffle(data_neg)\n",
    "data_pos = data_pos[:data_size]\n",
    "data_neg = data_neg[:data_size]\n",
    "cutoff_size = int(math.floor(data_size*0.6)) # ratio to divide dataset into train and test\n",
    "train_pos = data_pos[:cutoff_size]\n",
    "train_neg = data_neg[:cutoff_size]\n",
    "test_pos = data_pos[cutoff_size:]\n",
    "test_neg = data_neg[cutoff_size:]\n",
    "print train_pos[:5]\n",
    "print train_neg[:5]\n",
    "print data_size, len(train_pos), len(test_pos)"
   ]
  },
  {
   "cell_type": "markdown",
   "metadata": {},
   "source": [
    "Extract features using gensim models."
   ]
  },
  {
   "cell_type": "code",
   "execution_count": 3,
   "metadata": {
    "collapsed": false
   },
   "outputs": [
    {
     "name": "stdout",
     "output_type": "stream",
     "text": [
      "Training iteration 0\n",
      "Training iteration 1\n",
      "Training iteration 2\n",
      "Training iteration 3\n",
      "Training iteration 4\n",
      "Training iteration 0\n",
      "Training iteration 1\n",
      "Training iteration 2\n",
      "Training iteration 3\n",
      "Training iteration 4\n"
     ]
    }
   ],
   "source": [
    "def feature_extraction(train_pos, train_neg):\n",
    "    labeled_train_pos = []\n",
    "    for index, words in enumerate(train_pos):\n",
    "        sentence = LabeledSentence(words, [\"TRAIN_POS_%s\"%index])\n",
    "        labeled_train_pos.append(sentence)\n",
    "    labeled_train_neg = []\n",
    "    for index, words in enumerate(train_neg):\n",
    "        sentence = LabeledSentence(words, [\"TRAIN_NEG_%s\"%index])\n",
    "        labeled_train_neg.append(sentence)\n",
    "    model = Doc2Vec(min_count=1, window=10, size=100, sample=1e-4, negative=5, workers=4)\n",
    "    sentences = labeled_train_pos + labeled_train_neg\n",
    "    model.build_vocab(sentences)\n",
    "    for i in range(5):\n",
    "        print \"Training iteration %d\" %(i)\n",
    "        random.shuffle(sentences)\n",
    "        model.train(sentences)\n",
    "    train_pos_vec, train_neg_vec = [], []\n",
    "    for index in range(len(labeled_train_pos)):\n",
    "        doc_vec = model.docvecs[\"TRAIN_POS_%s\"%index]\n",
    "        train_pos_vec.append(doc_vec)\n",
    "    for index in range(len(labeled_train_neg)):\n",
    "        doc_vec = model.docvecs[\"TRAIN_NEG_%s\"%index]\n",
    "        train_neg_vec.append(doc_vec)\n",
    "    return train_pos_vec, train_neg_vec\n",
    "\n",
    "train_pos_vec, train_neg_vec = feature_extraction(train_pos, train_neg)\n",
    "test_pos_vec, test_neg_vec = feature_extraction(test_pos, test_neg)"
   ]
  },
  {
   "cell_type": "markdown",
   "metadata": {},
   "source": [
    "Use featured training set to build model for binary classification."
   ]
  },
  {
   "cell_type": "code",
   "execution_count": 4,
   "metadata": {
    "collapsed": true
   },
   "outputs": [],
   "source": [
    "def build_model(train_pos_vec, train_neg_vec):\n",
    "    Y = [\"pos\"]*len(train_pos_vec) + [\"neg\"]*len(train_neg_vec)\n",
    "    X = train_pos_vec + train_neg_vec\n",
    "    lr_model = sklearn.linear_model.LogisticRegression()\n",
    "    lr_model.fit(X,Y)\n",
    "    return lr_model\n",
    "\n",
    "lr_model = build_model(train_pos_vec, train_neg_vec)"
   ]
  },
  {
   "cell_type": "markdown",
   "metadata": {},
   "source": [
    "Evaluate the model by confusion matrix."
   ]
  },
  {
   "cell_type": "code",
   "execution_count": 5,
   "metadata": {
    "collapsed": false
   },
   "outputs": [
    {
     "name": "stdout",
     "output_type": "stream",
     "text": [
      "predicted:\tpos\tneg\n",
      "actual:\n",
      "pos\t\t18\t0\n",
      "neg\t\t0\t18\n",
      "accuracy: 0.972973\n",
      "precision: 0.947368\n",
      "recall: 0.947368\n"
     ]
    }
   ],
   "source": [
    "def evaluate_model(model, test_pos_vec, test_neg_vec, print_confusion=False):\n",
    "    test_pos_predict = model.predict(test_pos_vec)\n",
    "    test_neg_predict = model.predict(test_neg_vec)\n",
    "    test_pos_Y = [\"pos\"]*len(test_pos_vec)\n",
    "    test_neg_Y = [\"neg\"]*len(test_neg_vec)\n",
    "    tp, tn, fp, fn = 0, 0, 0, 0\n",
    "    for i in range(len(test_pos_predict)):\n",
    "        if test_pos_predict[i] == test_pos_Y[i]:\n",
    "            tp += 1\n",
    "        else:\n",
    "            fn += 1\n",
    "    for i in range(len(test_neg_predict)):\n",
    "        if test_neg_predict[i] == test_neg_Y[i]:\n",
    "            tn += 1\n",
    "        else:\n",
    "            fp += 1\n",
    "    accuracy = float(tp+tn) / float(tp+tn+fp+fn+1)\n",
    "    precision = float(tp) / float(tp+fp+1)\n",
    "    recall = float(tp) / float(tp+fn+1)\n",
    "    if print_confusion:\n",
    "        print \"predicted:\\tpos\\tneg\"\n",
    "        print \"actual:\"\n",
    "        print \"pos\\t\\t%d\\t%d\" % (tp, fn)\n",
    "        print \"neg\\t\\t%d\\t%d\" % (fp, tn)\n",
    "    print \"accuracy: %f\" % (accuracy)\n",
    "    print \"precision: %f\" % (precision)\n",
    "    print \"recall: %f\" % (recall)\n",
    "    \n",
    "evaluate_model(lr_model, test_pos_vec, test_neg_vec, True)"
   ]
  },
  {
   "cell_type": "code",
   "execution_count": null,
   "metadata": {
    "collapsed": true
   },
   "outputs": [],
   "source": []
  }
 ],
 "metadata": {
  "kernelspec": {
   "display_name": "Python 2",
   "language": "python",
   "name": "python2"
  },
  "language_info": {
   "codemirror_mode": {
    "name": "ipython",
    "version": 2
   },
   "file_extension": ".py",
   "mimetype": "text/x-python",
   "name": "python",
   "nbconvert_exporter": "python",
   "pygments_lexer": "ipython2",
   "version": "2.7.10"
  }
 },
 "nbformat": 4,
 "nbformat_minor": 0
}

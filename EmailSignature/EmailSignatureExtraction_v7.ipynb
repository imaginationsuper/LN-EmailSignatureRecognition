{
 "cells": [
  {
   "cell_type": "markdown",
   "metadata": {},
   "source": [
    "### Update code with cross-fold validation and SMOTE minority data synthesis"
   ]
  },
  {
   "cell_type": "code",
   "execution_count": 1,
   "metadata": {
    "collapsed": true
   },
   "outputs": [],
   "source": [
    "import logging # record log event\n",
    "logging.basicConfig(format='%(asctime)s : %(levelname)s : %(message)s', level=logging.INFO)"
   ]
  },
  {
   "cell_type": "markdown",
   "metadata": {},
   "source": [
    "Load and filter raw text data with regular expressions."
   ]
  },
  {
   "cell_type": "code",
   "execution_count": 2,
   "metadata": {
    "collapsed": false
   },
   "outputs": [],
   "source": [
    "import re\n",
    "import math\n",
    "import collections\n",
    "import nltk\n",
    "import random\n",
    "random.seed(0)\n",
    "\n",
    "def load_data(path_to_data):\n",
    "    train_pos = []\n",
    "    train_neg = []\n",
    "    sigwords = []\n",
    "    with open(path_to_data+\"EnronSignatures.txt\",'r') as fes:\n",
    "        for line in fes:\n",
    "            if len(line) <= 3:\n",
    "                train_pos.append((' '.join(sigwords)).split()) # combine all the texts of each signature\n",
    "                sigwords = []\n",
    "            else:\n",
    "                sigwords.append(' '.join(line.lower().strip().split()))\n",
    "    with open(path_to_data+\"train_content.txt\",'r') as ftc:\n",
    "        for line in ftc:\n",
    "            words = [w.lower() for w in line.strip().split()]\n",
    "            if len(words) < 2:\n",
    "                continue\n",
    "            train_neg.append(words)\n",
    "    return train_pos, train_neg\n",
    "\n",
    "def data_filter(raw_text_data):\n",
    "    clean_text_data = []\n",
    "    for entry in raw_text_data:\n",
    "        clean_entry = re.sub(r\"\\n|(\\\\(.*?){)|}|[!$%^&*#()_+|~\\-={}\\[\\]:\\\";'<>?,.\\/\\\\]|[0-9]|[@]\", ' ', ' '.join(entry))\n",
    "        #clean_entry = re.sub(r\"\\n|(\\\\(.*?){)|}|[!$%^&*#_+|\\={}\\[\\]\\\";'<>?,.\\/]|[0-9]\", ' ', ' '.join(entry))\n",
    "        #clean_entry = ' '.join(entry)\n",
    "        clean_entry = re.sub('\\s+', ' ', clean_entry)\n",
    "        clean_text_data.append(clean_entry.split())\n",
    "    return clean_text_data"
   ]
  },
  {
   "cell_type": "markdown",
   "metadata": {},
   "source": [
    "Extract features using Doc2Vec and convert text tokens into numerical vectors."
   ]
  },
  {
   "cell_type": "code",
   "execution_count": 3,
   "metadata": {
    "collapsed": false
   },
   "outputs": [],
   "source": [
    "from gensim.models.doc2vec import LabeledSentence, Doc2Vec\n",
    "def feature_extraction_Doc2Vec(data_pos, data_neg): # use the word2vec under the hood\n",
    "    labeled_data_pos = []\n",
    "    for index, words in enumerate(data_pos):\n",
    "        sentence = LabeledSentence(words, [\"DATA_POS_%s\"%index])\n",
    "        labeled_data_pos.append(sentence)\n",
    "    labeled_data_neg = []\n",
    "    for index, words in enumerate(data_neg):\n",
    "        sentence = LabeledSentence(words, [\"DATA_NEG_%s\"%index])\n",
    "        labeled_data_neg.append(sentence)\n",
    "    model = Doc2Vec(min_count=1, window=20, size=4000, sample=1e-4, negative=5, workers=4)\n",
    "    sentences = labeled_data_pos + labeled_data_neg\n",
    "    model.build_vocab(sentences)\n",
    "    for i in range(5):\n",
    "        #print \"Training iteration %d\" %(i)\n",
    "        random.shuffle(sentences)\n",
    "        model.train(sentences)\n",
    "    data_pos_vec, data_neg_vec = [], []\n",
    "    for index in range(len(labeled_data_pos)):\n",
    "        doc_vec = model.docvecs[\"DATA_POS_%s\"%index]\n",
    "        data_pos_vec.append(doc_vec)\n",
    "    for index in range(len(labeled_data_neg)):\n",
    "        doc_vec = model.docvecs[\"DATA_NEG_%s\"%index]\n",
    "        data_neg_vec.append(doc_vec)\n",
    "    return data_pos_vec, data_neg_vec"
   ]
  },
  {
   "cell_type": "markdown",
   "metadata": {},
   "source": [
    "Binary classifications using multiple methods"
   ]
  },
  {
   "cell_type": "code",
   "execution_count": 4,
   "metadata": {
    "collapsed": true
   },
   "outputs": [],
   "source": [
    "import sklearn.naive_bayes\n",
    "import sklearn.linear_model\n",
    "import sklearn.svm\n",
    "import sklearn.neighbors.nearest_centroid\n",
    "import sklearn.tree\n",
    "def build_model(train_pos_vec, train_neg_vec):\n",
    "    Y = [\"pos\"]*len(train_pos_vec) + [\"neg\"]*len(train_neg_vec)\n",
    "    X = train_pos_vec + train_neg_vec\n",
    "    # use multiple classification methods\n",
    "    svm_model = sklearn.svm.SVC() # SVM\n",
    "    svm_model.fit(X,Y)\n",
    "    nnc_model = sklearn.neighbors.nearest_centroid.NearestCentroid() # Nearest Neighbor\n",
    "    nnc_model.fit(X,Y)\n",
    "    lr_model = sklearn.linear_model.LogisticRegression() # Logistic Regression\n",
    "    lr_model.fit(X,Y)\n",
    "    nb_model = sklearn.naive_bayes.GaussianNB() # Naive Bayes\n",
    "    nb_model.fit(X,Y)\n",
    "    dt_model = sklearn.tree.DecisionTreeClassifier() # Decision Tree\n",
    "    dt_model.fit(X,Y)\n",
    "    return svm_model, nnc_model, lr_model, nb_model, dt_model"
   ]
  },
  {
   "cell_type": "markdown",
   "metadata": {},
   "source": [
    "Evaluate model using classification statistics."
   ]
  },
  {
   "cell_type": "code",
   "execution_count": 5,
   "metadata": {
    "collapsed": true
   },
   "outputs": [],
   "source": [
    "def evaluate_model(model, test_pos_vec, test_neg_vec, print_confusion=False):\n",
    "    test_pos_predict = model.predict(test_pos_vec)\n",
    "    test_neg_predict = model.predict(test_neg_vec)\n",
    "    test_pos_Y = [\"pos\"]*len(test_pos_vec)\n",
    "    test_neg_Y = [\"neg\"]*len(test_neg_vec)\n",
    "    tp, tn, fp, fn = 0, 0, 0, 0\n",
    "    for i in range(len(test_pos_predict)):\n",
    "        if test_pos_predict[i] == test_pos_Y[i]:\n",
    "            tp += 1\n",
    "        else:\n",
    "            fn += 1\n",
    "    for i in range(len(test_neg_predict)):\n",
    "        if test_neg_predict[i] == test_neg_Y[i]:\n",
    "            tn += 1\n",
    "        else:\n",
    "            fp += 1\n",
    "    accuracy = float(tp+tn) / float(tp+tn+fp+fn+1)\n",
    "    precision = float(tp) / float(tp+fp+1)\n",
    "    recall = float(tp) / float(tp+fn+1)\n",
    "    Fscore = (2*recall*precision) / (recall + precision)\n",
    "    if print_confusion:\n",
    "        print str(model)\n",
    "        print \"predicted:\\tpos\\tneg\"\n",
    "        print \"actual:\"\n",
    "        print \"pos\\t\\t%d\\t%d\" % (tp, fn)\n",
    "        print \"neg\\t\\t%d\\t%d\" % (fp, tn)\n",
    "        print \"accuracy: %f\" % (accuracy)\n",
    "        print \"precision: %f\" % (precision)\n",
    "        print \"recall: %f\" % (recall)\n",
    "        print \"Fscore: %f\" % (Fscore)\n",
    "        print '\\n'\n",
    "    return accuracy, precision, recall, Fscore"
   ]
  },
  {
   "cell_type": "markdown",
   "metadata": {},
   "source": [
    "Implement cross-fold validation and SMOTE algorithm in main function. Present the statistics by Fscore"
   ]
  },
  {
   "cell_type": "code",
   "execution_count": 6,
   "metadata": {
    "collapsed": false
   },
   "outputs": [
    {
     "name": "stderr",
     "output_type": "stream",
     "text": [
      "/Users/Jerry/anaconda/lib/python2.7/site-packages/matplotlib/font_manager.py:273: UserWarning: Matplotlib is building the font cache using fc-list. This may take a moment.\n",
      "  warnings.warn('Matplotlib is building the font cache using fc-list. This may take a moment.')\n"
     ]
    }
   ],
   "source": [
    "import numpy as np\n",
    "import sklearn.neighbors\n",
    "import matplotlib.pyplot as plt\n",
    "\n",
    "NUM_OF_CROSSFOLD = 5\n",
    "NUM_OF_ITERATION = 5\n",
    "\n",
    "def main():\n",
    "    stats_Fscore = list()\n",
    "    stats_recall = list()\n",
    "    stats_precision = list()\n",
    "    data_pos, data_neg = load_data('./') # read in raw dataset\n",
    "    data_pos = data_filter(data_pos) # filter use regular expression\n",
    "    data_neg = data_filter(data_neg)\n",
    "    data_size = max(len(data_pos), len(data_neg))\n",
    "    minority_size = min(len(data_pos), len(data_neg))\n",
    "    for iteration in range(NUM_OF_ITERATION): # training and validatingn for each iteration\n",
    "        random.seed(iteration)\n",
    "        random.shuffle(data_pos)\n",
    "        random.shuffle(data_neg)\n",
    "        data_pos_vec, data_neg_vec = feature_extraction_Doc2Vec(data_pos, data_neg) # convert to doc vectors\n",
    "        data_pos_vec_new = [] # use SMOTE method to synthesize minority data  \n",
    "        nbrs = sklearn.neighbors.NearestNeighbors(n_neighbors=3, algorithm=\"brute\").fit(data_pos_vec)\n",
    "        distances, indices = nbrs.kneighbors(data_pos_vec)\n",
    "        while (minority_size+len(data_pos_vec_new) < data_size):\n",
    "            indexA = random.randint(0, minority_size-1)\n",
    "            data_vec_A = data_pos_vec[indexA]\n",
    "            indexB = indices[indexA][random.randint(0, len(indices[indexA])-1)]\n",
    "            data_vec_B = data_pos_vec[indexB]\n",
    "            alpha = [random.random() for i in range(len(data_pos_vec[0]))] # blending ratio\n",
    "            new_vec = [alpha[i]*data_vec_A[i] + (1-alpha[i])*data_vec_B[i] for i in range(len(data_vec_A))]\n",
    "            data_pos_vec_new.append(new_vec)\n",
    "        data_pos_vec.extend(data_pos_vec_new) # add the synthesis dataset\n",
    "        unit_size = int(data_size*1.0 / NUM_OF_CROSSFOLD)\n",
    "        crossfold_vec_pos = []\n",
    "        crossfold_vec_neg = []\n",
    "        pos_index_pool = [i for i in range(data_size)] # randomly divide the dataset using index\n",
    "        random.shuffle(pos_index_pool)\n",
    "        neg_index_pool = [i for i in range(data_size)]\n",
    "        random.shuffle(neg_index_pool)\n",
    "        start = 0\n",
    "        for crossfold in range(NUM_OF_CROSSFOLD): # divide total dataset into smaller datasets\n",
    "            pos_unit_dataset = [data_pos_vec[index] for index in pos_index_pool[start:(start+unit_size)]]\n",
    "            crossfold_vec_pos.append(pos_unit_dataset)\n",
    "            neg_unit_dataset = [data_neg_vec[index] for index in neg_index_pool[start:(start+unit_size)]]\n",
    "            crossfold_vec_neg.append(neg_unit_dataset)\n",
    "            start += unit_size\n",
    "        Fscores_list = list()\n",
    "        recall_list = list()\n",
    "        precision_list = list()\n",
    "        for crossfold in range(NUM_OF_CROSSFOLD): # cross-fold validation\n",
    "            train_pos_vec = []\n",
    "            train_neg_vec = []\n",
    "            test_pos_vec = []\n",
    "            test_neg_vec = []\n",
    "            for i in range(NUM_OF_CROSSFOLD): # divide into training and validation set\n",
    "                if i == crossfold:\n",
    "                    test_pos_vec.extend(crossfold_vec_pos[i])\n",
    "                    test_neg_vec.extend(crossfold_vec_neg[i])\n",
    "                else:\n",
    "                    train_pos_vec.extend(crossfold_vec_pos[i])\n",
    "                    train_neg_vec.extend(crossfold_vec_neg[i])\n",
    "            svm_model, nnc_model, lr_model, nb_model, dt_model = build_model(train_pos_vec, train_neg_vec) # training\n",
    "            accuracy, precision, recall, Fscore = evaluate_model(lr_model, test_pos_vec, test_neg_vec) # validation\n",
    "            Fscores_list.append(Fscore)\n",
    "            #print Fscore\n",
    "            recall_list.append(recall)\n",
    "            precision_list.append(precision)\n",
    "        stats_Fscore.append(np.mean(Fscores_list))\n",
    "        stats_recall.append(np.mean(recall_list))\n",
    "        stats_precision.append(np.mean(precision_list))\n",
    "    print \"Average Fscores over all iterations:\\t\", np.mean(stats_Fscore)\n",
    "\n",
    "    plt.plot(stats_Fscore, marker='o')\n",
    "    plt.ylim([0, 1.0])\n",
    "    plt.ylabel(\"Fscore\")\n",
    "    plt.xlabel(\"Iteration\")\n",
    "    plt.savefig(\"Fscores.png\")"
   ]
  },
  {
   "cell_type": "code",
   "execution_count": 7,
   "metadata": {
    "collapsed": false
   },
   "outputs": [
    {
     "name": "stdout",
     "output_type": "stream",
     "text": [
      "Average Fscores over all iterations:\t0.933125891256\n"
     ]
    }
   ],
   "source": [
    "if __name__ == \"__main__\":\n",
    "    main()"
   ]
  }
 ],
 "metadata": {
  "kernelspec": {
   "display_name": "Python 2",
   "language": "python",
   "name": "python2"
  },
  "language_info": {
   "codemirror_mode": {
    "name": "ipython",
    "version": 2
   },
   "file_extension": ".py",
   "mimetype": "text/x-python",
   "name": "python",
   "nbconvert_exporter": "python",
   "pygments_lexer": "ipython2",
   "version": "2.7.10"
  }
 },
 "nbformat": 4,
 "nbformat_minor": 0
}

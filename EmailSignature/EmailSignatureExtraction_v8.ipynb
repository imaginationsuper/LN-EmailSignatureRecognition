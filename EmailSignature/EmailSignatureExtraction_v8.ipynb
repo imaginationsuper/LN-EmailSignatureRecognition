{
 "cells": [
  {
   "cell_type": "code",
   "execution_count": 1,
   "metadata": {
    "collapsed": true
   },
   "outputs": [],
   "source": [
    "import logging # record log event\n",
    "logging.basicConfig(format='%(asctime)s : %(levelname)s : %(message)s', level=logging.INFO)"
   ]
  },
  {
   "cell_type": "code",
   "execution_count": 2,
   "metadata": {
    "collapsed": true
   },
   "outputs": [],
   "source": [
    "import re\n",
    "import math\n",
    "import collections\n",
    "import nltk\n",
    "import random\n",
    "random.seed(0)\n",
    "\n",
    "def load_data(path_to_data):\n",
    "    train_pos = []\n",
    "    train_neg = []\n",
    "    sigwords = []\n",
    "    with open(path_to_data+\"EnronSignatures.txt\",'r') as fes:\n",
    "        for line in fes:\n",
    "            if len(line) <= 3:\n",
    "                train_pos.append((' '.join(sigwords)).split()) # combine all the texts of each signature\n",
    "                sigwords = []\n",
    "            else:\n",
    "                sigwords.append(' '.join(line.lower().strip().split()))\n",
    "    with open(path_to_data+\"train_content.txt\",'r') as ftc:\n",
    "        for line in ftc:\n",
    "            words = [w.lower() for w in line.strip().split()]\n",
    "            if len(words) < 2:\n",
    "                continue\n",
    "            train_neg.append(words)\n",
    "    return train_pos, train_neg\n",
    "\n",
    "def data_filter(raw_text_data):\n",
    "    clean_text_data = []\n",
    "    for entry in raw_text_data:\n",
    "        clean_entry = re.sub(r\"\\n|(\\\\(.*?){)|}|[!$%^&*#()_+|~\\-={}\\[\\]:\\\";'<>?,.\\/\\\\]|[0-9]|[@]\", ' ', ' '.join(entry))\n",
    "        #clean_entry = re.sub(r\"\\n|(\\\\(.*?){)|}|[!$%^&*#_+|\\={}\\[\\]\\\";'<>?,.\\/]|[0-9]\", ' ', ' '.join(entry))\n",
    "        #clean_entry = ' '.join(entry)\n",
    "        clean_entry = re.sub('\\s+', ' ', clean_entry)\n",
    "        clean_text_data.append(clean_entry.split())\n",
    "    return clean_text_data"
   ]
  },
  {
   "cell_type": "code",
   "execution_count": 3,
   "metadata": {
    "collapsed": true
   },
   "outputs": [],
   "source": [
    "from gensim.models.doc2vec import LabeledSentence, Doc2Vec\n",
    "def feature_extraction_Doc2Vec(data_pos, data_neg): # use the word2vec under the hood\n",
    "    labeled_data_pos = []\n",
    "    for index, words in enumerate(data_pos):\n",
    "        sentence = LabeledSentence(words, [\"DATA_POS_%s\"%index])\n",
    "        labeled_data_pos.append(sentence)\n",
    "    labeled_data_neg = []\n",
    "    for index, words in enumerate(data_neg):\n",
    "        sentence = LabeledSentence(words, [\"DATA_NEG_%s\"%index])\n",
    "        labeled_data_neg.append(sentence)\n",
    "    model = Doc2Vec(min_count=1, window=20, size=4000, sample=1e-4, negative=5, workers=4)\n",
    "    sentences = labeled_data_pos + labeled_data_neg\n",
    "    model.build_vocab(sentences)\n",
    "    for i in range(5):\n",
    "        #print \"Training iteration %d\" %(i)\n",
    "        random.shuffle(sentences)\n",
    "        model.train(sentences)\n",
    "    data_pos_vec, data_neg_vec = [], []\n",
    "    for index in range(len(labeled_data_pos)):\n",
    "        doc_vec = model.docvecs[\"DATA_POS_%s\"%index]\n",
    "        data_pos_vec.append(doc_vec)\n",
    "    for index in range(len(labeled_data_neg)):\n",
    "        doc_vec = model.docvecs[\"DATA_NEG_%s\"%index]\n",
    "        data_neg_vec.append(doc_vec)\n",
    "    return data_pos_vec, data_neg_vec"
   ]
  },
  {
   "cell_type": "code",
   "execution_count": 4,
   "metadata": {
    "collapsed": true
   },
   "outputs": [],
   "source": [
    "import sklearn.naive_bayes\n",
    "import sklearn.linear_model\n",
    "import sklearn.svm\n",
    "import sklearn.neighbors.nearest_centroid\n",
    "import sklearn.tree\n",
    "def build_model(train_pos_vec, train_neg_vec):\n",
    "    Y = [\"pos\"]*len(train_pos_vec) + [\"neg\"]*len(train_neg_vec)\n",
    "    X = train_pos_vec + train_neg_vec\n",
    "    # use multiple classification methods\n",
    "    svm_model = sklearn.svm.SVC() # SVM\n",
    "    svm_model.fit(X,Y)\n",
    "    nnc_model = sklearn.neighbors.nearest_centroid.NearestCentroid() # Nearest Neighbor\n",
    "    nnc_model.fit(X,Y)\n",
    "    lr_model = sklearn.linear_model.LogisticRegression() # Logistic Regression\n",
    "    lr_model.fit(X,Y)\n",
    "    nb_model = sklearn.naive_bayes.GaussianNB() # Naive Bayes\n",
    "    nb_model.fit(X,Y)\n",
    "    dt_model = sklearn.tree.DecisionTreeClassifier() # Decision Tree\n",
    "    dt_model.fit(X,Y)\n",
    "    return svm_model, nnc_model, lr_model, nb_model, dt_model"
   ]
  },
  {
   "cell_type": "code",
   "execution_count": 5,
   "metadata": {
    "collapsed": true
   },
   "outputs": [],
   "source": [
    "def evaluate_model(model, test_pos_vec, test_neg_vec, print_confusion=False):\n",
    "    test_pos_predict = model.predict(test_pos_vec)\n",
    "    test_neg_predict = model.predict(test_neg_vec)\n",
    "    test_pos_Y = [\"pos\"]*len(test_pos_vec)\n",
    "    test_neg_Y = [\"neg\"]*len(test_neg_vec)\n",
    "    tp, tn, fp, fn = 0, 0, 0, 0\n",
    "    for i in range(len(test_pos_predict)):\n",
    "        if test_pos_predict[i] == test_pos_Y[i]:\n",
    "            tp += 1\n",
    "        else:\n",
    "            fn += 1\n",
    "    for i in range(len(test_neg_predict)):\n",
    "        if test_neg_predict[i] == test_neg_Y[i]:\n",
    "            tn += 1\n",
    "        else:\n",
    "            fp += 1\n",
    "    accuracy = float(tp+tn) / float(tp+tn+fp+fn+1)\n",
    "    precision = float(tp) / float(tp+fp+1)\n",
    "    recall = float(tp) / float(tp+fn+1)\n",
    "    Fscore = (2*recall*precision) / (recall + precision)\n",
    "    if print_confusion:\n",
    "        print str(model)\n",
    "        print \"predicted:\\tpos\\tneg\"\n",
    "        print \"actual:\"\n",
    "        print \"pos\\t\\t%d\\t%d\" % (tp, fn)\n",
    "        print \"neg\\t\\t%d\\t%d\" % (fp, tn)\n",
    "        print \"accuracy: %f\" % (accuracy)\n",
    "        print \"precision: %f\" % (precision)\n",
    "        print \"recall: %f\" % (recall)\n",
    "        print \"Fscore: %f\" % (Fscore)\n",
    "        print '\\n'\n",
    "    return accuracy, precision, recall, Fscore"
   ]
  },
  {
   "cell_type": "code",
   "execution_count": null,
   "metadata": {
    "collapsed": true
   },
   "outputs": [],
   "source": [
    "def SMOTE()"
   ]
  }
 ],
 "metadata": {
  "kernelspec": {
   "display_name": "Python 2",
   "language": "python",
   "name": "python2"
  },
  "language_info": {
   "codemirror_mode": {
    "name": "ipython",
    "version": 2
   },
   "file_extension": ".py",
   "mimetype": "text/x-python",
   "name": "python",
   "nbconvert_exporter": "python",
   "pygments_lexer": "ipython2",
   "version": "2.7.10"
  }
 },
 "nbformat": 4,
 "nbformat_minor": 0
}

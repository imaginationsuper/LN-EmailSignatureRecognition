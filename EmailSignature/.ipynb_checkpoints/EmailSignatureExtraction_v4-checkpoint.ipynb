{
 "cells": [
  {
   "cell_type": "markdown",
   "metadata": {},
   "source": [
    "Use several binary classification methods (later we can build an ensemble classifier). "
   ]
  },
  {
   "cell_type": "code",
   "execution_count": 1,
   "metadata": {
    "collapsed": true
   },
   "outputs": [],
   "source": [
    "import logging # record log event\n",
    "logging.basicConfig(format='%(asctime)s : %(levelname)s : %(message)s', level=logging.INFO)"
   ]
  },
  {
   "cell_type": "code",
   "execution_count": 2,
   "metadata": {
    "collapsed": false
   },
   "outputs": [
    {
     "name": "stdout",
     "output_type": "stream",
     "text": [
      "[['robert', 'stahr', 'hosmon', 'ph', 'd', 'associate', 'dean', 'director', 'of', 'development', 'school', 'of', 'communication', 'university', 'of', 'miami'], ['vincent', 'kaminski', 'enron', 'credit', 'smith', 'street', 'room', 'eb', 'houston', 'tx', 't', 'f'], ['joanna', 'vidal', 'events', 'coordinator', 'risk', 'waters', 'group', 't', 'ext', 'f', 'jvidal', 'riskwaters', 'com', 'www', 'riskwaters', 'com'], ['chris', 'harris', 'innogy', 'holdings', 'place', 'windmill', 'hill', 'business', 'park', 'whitehill', 'way', 'swindon', 'wiltshire', 'uk', 'n', 'pb', 't', 'f'], ['sincerely', 'mayte', 'armas', 'miami', 'dade', 'county', 'fl', 'resident', 'for', 'over', 'years', 'us', 'citizen', 'registered', 'voter', 'fiu', 'political', 'science', 'graduate']]\n",
      "[['black', 'scholes', 'model', 'for', 'more', 'information', 'and', 'to', 'register', 'for', 'the'], ['and', 'a', 'financial', 'engineering', 'retrospective', 'to', 'name', 'a', 'few'], ['since', 'we', 'add', 'to', 'it', 'frequently'], ['also', 'don', 't', 'miss', 'the', 'henwood', 'captain', 'and', 'crew', 'golf', 'tournament', 'planned', 'for'], ['head', 'of', 'marketing', 'in', 'the', 'weather', 'deriv', 'group', 'would', 'like', 'to', 'know', 'if', 'you', 'plan']]\n",
      "91 72 19\n"
     ]
    }
   ],
   "source": [
    "import re\n",
    "import math\n",
    "import collections\n",
    "import nltk\n",
    "import random\n",
    "random.seed(0)\n",
    "from gensim.models.doc2vec import LabeledSentence, Doc2Vec\n",
    "\n",
    "def load_data(path_to_data):\n",
    "    train_pos = []\n",
    "    train_neg = []\n",
    "    sigwords = []\n",
    "    with open(path_to_data+\"TotalSignatures.txt\",'r') as fes:\n",
    "        for line in fes:\n",
    "            if len(line) <= 3:\n",
    "                train_pos.append((' '.join(sigwords)).split()) # combine all the texts of each signature\n",
    "                sigwords = []\n",
    "            else:\n",
    "                sigwords.append(' '.join(line.lower().strip().split()))\n",
    "    with open(path_to_data+\"train_content.txt\",'r') as ftc:\n",
    "        for line in ftc:\n",
    "            words = [w.lower() for w in line.strip().split()]\n",
    "            if len(words) < 2:\n",
    "                continue\n",
    "            train_neg.append(words)\n",
    "    return train_pos, train_neg\n",
    "\n",
    "def data_filter(raw_text_data):\n",
    "    clean_text_data = []\n",
    "    for entry in raw_text_data:\n",
    "        clean_entry = re.sub(r\"\\n|(\\\\(.*?){)|}|[!$%^&*#()_+|~\\-={}\\[\\]:\\\";'<>?,.\\/\\\\]|[0-9]|[@]\", ' ', ' '.join(entry))\n",
    "        #clean_entry = re.sub(r\"\\n|(\\\\(.*?){)|}|[!$%^&*#_+|\\={}\\[\\]\\\";'<>?,.\\/]|[0-9]\", ' ', ' '.join(entry))\n",
    "        clean_entry = re.sub('\\s+', ' ', clean_entry)\n",
    "        clean_text_data.append(clean_entry.split())\n",
    "    return clean_text_data\n",
    "\n",
    "data_pos, data_neg = load_data('./')\n",
    "data_pos = data_filter(data_pos)\n",
    "data_neg = data_filter(data_neg)\n",
    "data_size = min(len(data_pos), len(data_neg))\n",
    "random.shuffle(data_pos)\n",
    "random.shuffle(data_neg)\n",
    "data_pos = data_pos[:data_size]\n",
    "data_neg = data_neg[:data_size]\n",
    "cutoff_size = int(math.floor(data_size*0.8)) # ratio to divide dataset into train and test\n",
    "train_pos = data_pos[:cutoff_size]\n",
    "train_neg = data_neg[:cutoff_size]\n",
    "test_pos = data_pos[cutoff_size:]\n",
    "test_neg = data_neg[cutoff_size:]\n",
    "print train_pos[:5]\n",
    "print train_neg[:5]\n",
    "print data_size, len(train_pos), len(test_pos)"
   ]
  },
  {
   "cell_type": "code",
   "execution_count": 3,
   "metadata": {
    "collapsed": false
   },
   "outputs": [
    {
     "name": "stdout",
     "output_type": "stream",
     "text": [
      "Training iteration 0\n",
      "Training iteration 1\n",
      "Training iteration 2\n",
      "Training iteration 3\n",
      "Training iteration 4\n",
      "Training iteration 0\n",
      "Training iteration 1\n",
      "Training iteration 2\n",
      "Training iteration 3\n",
      "Training iteration 4\n",
      "16 100\n"
     ]
    }
   ],
   "source": [
    "def feature_extraction(data_pos, data_neg):\n",
    "    labeled_data_pos = []\n",
    "    for index, words in enumerate(data_pos):\n",
    "        sentence = LabeledSentence(words, [\"DATA_POS_%s\"%index])\n",
    "        labeled_data_pos.append(sentence)\n",
    "    labeled_data_neg = []\n",
    "    for index, words in enumerate(data_neg):\n",
    "        sentence = LabeledSentence(words, [\"DATA_NEG_%s\"%index])\n",
    "        labeled_data_neg.append(sentence)\n",
    "    model = Doc2Vec(min_count=1, window=10, size=100, sample=1e-4, negative=5, workers=4)\n",
    "    sentences = labeled_data_pos + labeled_data_neg\n",
    "    model.build_vocab(sentences)\n",
    "    for i in range(5):\n",
    "        print \"Training iteration %d\" %(i)\n",
    "        random.shuffle(sentences)\n",
    "        model.train(sentences)\n",
    "    data_pos_vec, data_neg_vec = [], []\n",
    "    for index in range(len(labeled_data_pos)):\n",
    "        doc_vec = model.docvecs[\"DATA_POS_%s\"%index]\n",
    "        data_pos_vec.append(doc_vec)\n",
    "    for index in range(len(labeled_data_neg)):\n",
    "        doc_vec = model.docvecs[\"DATA_NEG_%s\"%index]\n",
    "        data_neg_vec.append(doc_vec)\n",
    "    return data_pos_vec, data_neg_vec\n",
    "\n",
    "train_pos_vec, train_neg_vec = feature_extraction(train_pos, train_neg)\n",
    "test_pos_vec, test_neg_vec = feature_extraction(test_pos, test_neg)\n",
    "print len(train_pos[0]), len(train_pos_vec[0])\n",
    "#print(map(list,train_pos_vec[:2]))\n",
    "#print(map(list,test_pos_vec[:2]))"
   ]
  },
  {
   "cell_type": "code",
   "execution_count": 4,
   "metadata": {
    "collapsed": false
   },
   "outputs": [],
   "source": [
    "import sklearn.naive_bayes\n",
    "import sklearn.linear_model\n",
    "import sklearn.svm\n",
    "import sklearn.neighbors.nearest_centroid\n",
    "import sklearn.tree\n",
    "def build_model(train_pos_vec, train_neg_vec):\n",
    "    Y = [\"pos\"]*len(train_pos_vec) + [\"neg\"]*len(train_neg_vec)\n",
    "    X = train_pos_vec + train_neg_vec\n",
    "    # use multiple classification methods\n",
    "    svm_model = sklearn.svm.SVC() # SVM\n",
    "    svm_model.fit(X,Y)\n",
    "    nnc_model = sklearn.neighbors.nearest_centroid.NearestCentroid() # Nearest Neighbor\n",
    "    nnc_model.fit(X,Y)\n",
    "    lr_model = sklearn.linear_model.LogisticRegression() # Logistic Regression\n",
    "    lr_model.fit(X,Y)\n",
    "    nb_model = sklearn.naive_bayes.GaussianNB() # Naive Bayes\n",
    "    nb_model.fit(X,Y)\n",
    "    dt_model = sklearn.tree.DecisionTreeClassifier()\n",
    "    dt_model.fit(X,Y)\n",
    "    return svm_model, nnc_model, lr_model, nb_model, dt_model\n",
    "\n",
    "svm_model, nnc_model, lr_model, nb_model, dt_model = build_model(train_pos_vec, train_neg_vec)"
   ]
  },
  {
   "cell_type": "code",
   "execution_count": 5,
   "metadata": {
    "collapsed": false
   },
   "outputs": [
    {
     "name": "stdout",
     "output_type": "stream",
     "text": [
      "predicted:\tpos\tneg\n",
      "actual:\n",
      "pos\t\t13\t6\n",
      "neg\t\t4\t15\n",
      "accuracy: 0.717949\n",
      "precision: 0.722222\n",
      "recall: 0.650000\n",
      "predicted:\tpos\tneg\n",
      "actual:\n",
      "pos\t\t14\t5\n",
      "neg\t\t4\t15\n",
      "accuracy: 0.743590\n",
      "precision: 0.736842\n",
      "recall: 0.700000\n",
      "predicted:\tpos\tneg\n",
      "actual:\n",
      "pos\t\t14\t5\n",
      "neg\t\t4\t15\n",
      "accuracy: 0.743590\n",
      "precision: 0.736842\n",
      "recall: 0.700000\n",
      "predicted:\tpos\tneg\n",
      "actual:\n",
      "pos\t\t17\t2\n",
      "neg\t\t3\t16\n",
      "accuracy: 0.846154\n",
      "precision: 0.809524\n",
      "recall: 0.850000\n"
     ]
    }
   ],
   "source": [
    "def evaluate_model(model, test_pos_vec, test_neg_vec, print_confusion=False):\n",
    "    test_pos_predict = model.predict(test_pos_vec)\n",
    "    test_neg_predict = model.predict(test_neg_vec)\n",
    "    test_pos_Y = [\"pos\"]*len(test_pos_vec)\n",
    "    test_neg_Y = [\"neg\"]*len(test_neg_vec)\n",
    "    tp, tn, fp, fn = 0, 0, 0, 0\n",
    "    for i in range(len(test_pos_predict)):\n",
    "        if test_pos_predict[i] == test_pos_Y[i]:\n",
    "            tp += 1\n",
    "        else:\n",
    "            fn += 1\n",
    "    for i in range(len(test_neg_predict)):\n",
    "        if test_neg_predict[i] == test_neg_Y[i]:\n",
    "            tn += 1\n",
    "        else:\n",
    "            fp += 1\n",
    "    accuracy = float(tp+tn) / float(tp+tn+fp+fn+1)\n",
    "    precision = float(tp) / float(tp+fp+1)\n",
    "    recall = float(tp) / float(tp+fn+1)\n",
    "    Fscore = (2*recall*precision) / (recall + precision)\n",
    "    if print_confusion:\n",
    "        print \"predicted:\\tpos\\tneg\"\n",
    "        print \"actual:\"\n",
    "        print \"pos\\t\\t%d\\t%d\" % (tp, fn)\n",
    "        print \"neg\\t\\t%d\\t%d\" % (fp, tn)\n",
    "    print \"accuracy: %f\" % (accuracy)\n",
    "    print \"precision: %f\" % (precision)\n",
    "    print \"recall: %f\" % (recall)\n",
    "    print \"Fscore: %f\" % (Fscore)\n",
    "    \n",
    "evaluate_model(svm_model, test_pos_vec, test_neg_vec, True)\n",
    "evaluate_model(nnc_model, test_pos_vec, test_neg_vec, True)\n",
    "evaluate_model(lr_model, test_pos_vec, test_neg_vec, True)\n",
    "evaluate_model(nb_model, test_pos_vec, test_neg_vec, True)\n",
    "evaluate_model(dt_model, test_pos_vec, test_neg_vec, True)"
   ]
  }
 ],
 "metadata": {
  "kernelspec": {
   "display_name": "Python 2",
   "language": "python",
   "name": "python2"
  },
  "language_info": {
   "codemirror_mode": {
    "name": "ipython",
    "version": 2
   },
   "file_extension": ".py",
   "mimetype": "text/x-python",
   "name": "python",
   "nbconvert_exporter": "python",
   "pygments_lexer": "ipython2",
   "version": "2.7.11"
  }
 },
 "nbformat": 4,
 "nbformat_minor": 0
}
